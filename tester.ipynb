{
 "cells": [
  {
   "cell_type": "code",
   "execution_count": 49,
   "outputs": [
    {
     "name": "stdout",
     "text": [
      "<operation>\n",
      "<exec-date>2020-02-12</exec-date>\n",
      "<order-date>2020-02-11</order-date>\n",
      "<type>Obciążenie</type>\n",
      "<description>AUTOOSZCZĘDZANIE-PRZELEW</description>\n",
      "<amount curr=\"PLN\">-1.05</amount>\n",
      "<ending-balance curr=\"PLN\">+2059.17</ending-balance>\n",
      "</operation>\n"
     ],
     "output_type": "stream"
    },
    {
     "traceback": [
      "\u001b[0;31m---------------------------------------------------------------------------\u001b[0m",
      "\u001b[0;31mTypeError\u001b[0m                                 Traceback (most recent call last)",
      "\u001b[0;32m<ipython-input-49-3c0fa21ca06b>\u001b[0m in \u001b[0;36m<module>\u001b[0;34m\u001b[0m\n\u001b[1;32m      7\u001b[0m \u001b[0mlistw\u001b[0m \u001b[0;34m=\u001b[0m \u001b[0msoup\u001b[0m\u001b[0;34m.\u001b[0m\u001b[0moperations\u001b[0m\u001b[0;34m.\u001b[0m\u001b[0mfind_all\u001b[0m\u001b[0;34m(\u001b[0m\u001b[0;34m\"operation\"\u001b[0m\u001b[0;34m)\u001b[0m\u001b[0;34m\u001b[0m\u001b[0;34m\u001b[0m\u001b[0m\n\u001b[1;32m      8\u001b[0m \u001b[0mprint\u001b[0m\u001b[0;34m(\u001b[0m\u001b[0mlistw\u001b[0m\u001b[0;34m[\u001b[0m\u001b[0;36m0\u001b[0m\u001b[0;34m]\u001b[0m\u001b[0;34m)\u001b[0m\u001b[0;34m\u001b[0m\u001b[0;34m\u001b[0m\u001b[0m\n\u001b[0;32m----> 9\u001b[0;31m \u001b[0mprint\u001b[0m\u001b[0;34m(\u001b[0m\u001b[0mengine\u001b[0m\u001b[0;34m.\u001b[0m\u001b[0mparser\u001b[0m\u001b[0;34m(\u001b[0m\u001b[0mlistw\u001b[0m\u001b[0;34m[\u001b[0m\u001b[0;36m0\u001b[0m\u001b[0;34m]\u001b[0m\u001b[0;34m,\u001b[0m\u001b[0;36m11\u001b[0m\u001b[0;34m)\u001b[0m\u001b[0;34m)\u001b[0m\u001b[0;34m\u001b[0m\u001b[0;34m\u001b[0m\u001b[0m\n\u001b[0m\u001b[1;32m     10\u001b[0m \u001b[0;34m\u001b[0m\u001b[0m\n",
      "\u001b[0;31mTypeError\u001b[0m: 'module' object is not callable"
     ],
     "ename": "TypeError",
     "evalue": "'module' object is not callable",
     "output_type": "error"
    }
   ],
   "source": [
    "from pprint import pprint\n",
    "from bs4 import BeautifulSoup\n",
    "import  engine.parser\n",
    "with open(\"history_1.xml\") as fh:\n",
    "    soup = BeautifulSoup(fh, \"xml\")\n",
    "\n",
    "listw = soup.operations.find_all(\"operation\")\n",
    "print(listw[0])\n",
    "print(engine.parser(listw[0],11))\n"
   ],
   "metadata": {
    "collapsed": false,
    "pycharm": {
     "name": "#%%\n",
     "is_executing": false
    }
   }
  },
  {
   "cell_type": "code",
   "execution_count": 1,
   "outputs": [
    {
     "name": "stderr",
     "text": [
      "warning: PYDEVD_USE_CYTHON environment variable is set to 'NO'. Frame evaluator will be also disabled because it requires Cython extensions to be enabled in order to operate correctly.\n"
     ],
     "output_type": "stream"
    },
    {
     "name": "stdout",
     "text": [
      "ParsedOperation(execDate='Today', orderDate='Today', description='AUTOOSZCZĘDZANIE-PRZELEW', amount=-1.05, account='1', Type=<OperationType.OUTGOING: 2>)\n"
     ],
     "output_type": "stream"
    }
   ],
   "source": [
    "import os\n",
    "import firefly_iii_client\n",
    "from firefly_iii_client.rest import ApiException\n",
    "import firefly_iii_client.models.transaction_split\n",
    "from dotenv import load_dotenv\n",
    "from pprint import pprint\n",
    "from engine.parser import parse_operation\n",
    "\n",
    "from bs4 import BeautifulSoup\n",
    "\n",
    "soup = \"\"\n",
    "with open(\"history_1.xml\") as fh:\n",
    "    soup = BeautifulSoup(fh, \"xml\")\n",
    "\n",
    "listw = soup.operations.find_all(\"operation\")\n",
    "# for i in listw:\n",
    "#     print(i.type)\n",
    "case = listw[0]\n",
    "parse_operation(case,\"1\")\n",
    "\n",
    "load_dotenv()\n",
    "\n",
    "config = firefly_iii_client.configuration.Configuration()\n",
    "\n",
    "config.host = os.getenv(\"HOST\")\n",
    "config.access_token = os.getenv(\"TOKEN\")\n",
    "\n",
    "api_instance = firefly_iii_client.AboutApi(firefly_iii_client.ApiClient(config))\n",
    "# try:\n",
    "#     # System information end point.\n",
    "#     api_response = api_instance.get_about()\n",
    "#     pprint(api_response)\n",
    "# except ApiException as e:\n",
    "#     print(\"Exception when calling AboutApi->get_about: %s\\n\" % e)\n",
    "\n"
   ],
   "metadata": {
    "collapsed": false,
    "pycharm": {
     "name": "#%%\n",
     "is_executing": false
    }
   }
  }
 ],
 "metadata": {
  "kernelspec": {
   "display_name": "Python 3",
   "language": "python",
   "name": "python3"
  },
  "language_info": {
   "codemirror_mode": {
    "name": "ipython",
    "version": 2
   },
   "file_extension": ".py",
   "mimetype": "text/x-python",
   "name": "python",
   "nbconvert_exporter": "python",
   "pygments_lexer": "ipython2",
   "version": "2.7.6"
  },
  "pycharm": {
   "stem_cell": {
    "cell_type": "raw",
    "source": [],
    "metadata": {
     "collapsed": false
    }
   }
  }
 },
 "nbformat": 4,
 "nbformat_minor": 0
}